{
 "cells": [
  {
   "cell_type": "code",
   "execution_count": 1,
   "metadata": {},
   "outputs": [],
   "source": [
    "from comet_ml import Experiment\n",
    "#from comet_ml.integration.pytorch import log_model\n",
    "import numpy as np\n",
    "import os\n",
    "import torch\n",
    "from concrete_scars_dataset import ConcreteScarsDataset\n",
    "from concrete_scars_model import ConcreteScarsModel\n",
    "\n",
    "API_KEY = os.environ['COMETKEY']\n",
    "DEVICE = torch.device(\"cuda:0\" if torch.cuda.is_available() else \"cpu\")"
   ]
  },
  {
   "cell_type": "code",
   "execution_count": 2,
   "metadata": {},
   "outputs": [],
   "source": [
    "# experiment = Experiment(\n",
    "#   api_key = API_KEY,\n",
    "#   project_name = 'concrete-scars-detection',\n",
    "#   workspace='my-projects'\n",
    "# )\n",
    "\n",
    "hyper_params = {\n",
    "    'learning_rate': 0.001,\n",
    "    'epochs': 10,\n",
    "    'batch_size': 10\n",
    "}\n",
    "#experiment.log_parameters(hyper_params)"
   ]
  },
  {
   "cell_type": "code",
   "execution_count": 3,
   "metadata": {},
   "outputs": [],
   "source": [
    "from torchvision.transforms import ToTensor\n",
    "from torch.utils.data import DataLoader\n",
    "\n",
    "dataset = ConcreteScarsDataset(transform=ToTensor(),n_negative=30, n_positive=70) #default distribution 300-negative 700-positive\n",
    "data_loader = DataLoader(dataset=dataset, batch_size=hyper_params['batch_size'], shuffle=True, num_workers=1)\n",
    "steps = len(dataset)\n",
    "\n",
    "model = ConcreteScarsModel().to(DEVICE)\n",
    "#experiment.log_model(experiment, model, model_name='ConcreteScarsDetection')\n",
    "criterion = torch.nn.MSELoss()\n",
    "optimizer = torch.optim.Adam(model.parameters(), lr=hyper_params['learning_rate'])"
   ]
  },
  {
   "cell_type": "code",
   "execution_count": 4,
   "metadata": {},
   "outputs": [
    {
     "name": "stdout",
     "output_type": "stream",
     "text": [
      "Epoch: 1 error: 0.002122278078459203\n",
      "Finished in: 6.472s, est. time left: 1.08 min\n",
      "Epoch: 2 error: 0.0008574112365022302\n",
      "Finished in: 5.475s, est. time left: 0.82 min\n",
      "Epoch: 3 error: 0.0008574547525495291\n",
      "Finished in: 5.426s, est. time left: 0.72 min\n",
      "Epoch: 4 error: 0.0008571415627375245\n",
      "Finished in: 5.405s, est. time left: 0.63 min\n",
      "Step:  30/100 epoch: 5\r"
     ]
    },
    {
     "ename": "KeyboardInterrupt",
     "evalue": "",
     "output_type": "error",
     "traceback": [
      "\u001b[1;31m---------------------------------------------------------------------------\u001b[0m",
      "\u001b[1;31mKeyboardInterrupt\u001b[0m                         Traceback (most recent call last)",
      "Cell \u001b[1;32mIn[4], line 21\u001b[0m\n\u001b[0;32m     18\u001b[0m     loss\u001b[39m.\u001b[39mbackward()\n\u001b[0;32m     19\u001b[0m     optimizer\u001b[39m.\u001b[39mstep()\n\u001b[1;32m---> 21\u001b[0m     error[i] \u001b[39m=\u001b[39m loss\u001b[39m.\u001b[39mitem()\n\u001b[0;32m     22\u001b[0m     \u001b[39mprint\u001b[39m(\u001b[39mf\u001b[39m\u001b[39m'\u001b[39m\u001b[39mStep:  \u001b[39m\u001b[39m{\u001b[39;00m(i\u001b[39m+\u001b[39m\u001b[39m1\u001b[39m)\u001b[39m*\u001b[39mhyper_params[\u001b[39m\"\u001b[39m\u001b[39mbatch_size\u001b[39m\u001b[39m\"\u001b[39m]\u001b[39m}\u001b[39;00m\u001b[39m/\u001b[39m\u001b[39m{\u001b[39;00msteps\u001b[39m}\u001b[39;00m\u001b[39m epoch: \u001b[39m\u001b[39m{\u001b[39;00mepoch\u001b[39m+\u001b[39m\u001b[39m1\u001b[39m\u001b[39m}\u001b[39;00m\u001b[39m'\u001b[39m, end\u001b[39m=\u001b[39m\u001b[39m'\u001b[39m\u001b[39m\\r\u001b[39;00m\u001b[39m'\u001b[39m, flush\u001b[39m=\u001b[39m\u001b[39mTrue\u001b[39;00m)\n\u001b[0;32m     23\u001b[0m end\u001b[39m.\u001b[39mrecord()\n",
      "\u001b[1;31mKeyboardInterrupt\u001b[0m: "
     ]
    }
   ],
   "source": [
    "start = torch.cuda.Event(enable_timing=True)\n",
    "#first epoch is always a few seconds longer, we dont do warmup\n",
    "end = torch.cuda.Event(enable_timing=True)\n",
    "\n",
    "for epoch in range(hyper_params['epochs']):\n",
    "    error = np.zeros(steps)\n",
    "    s_per_epoch = np.zeros(hyper_params['epochs'])\n",
    "\n",
    "    start.record()\n",
    "    for i, (images, masks) in enumerate(data_loader):\n",
    "        images = images.to(DEVICE)\n",
    "        masks = masks.to(DEVICE)\n",
    "\n",
    "        optimizer.zero_grad()\n",
    "        outputs = model(images)\n",
    "        loss = criterion(outputs, masks)\n",
    "\n",
    "        loss.backward()\n",
    "        optimizer.step()\n",
    "\n",
    "        error[i] = loss.item()\n",
    "        print(f'Step:  {(i+1)*hyper_params[\"batch_size\"]}/{steps} epoch: {epoch+1}', end='\\r', flush=True)\n",
    "    end.record()\n",
    "    torch.cuda.synchronize()\n",
    "    \n",
    "    s_per_epoch[epoch] = round(start.elapsed_time(end)/1000,3) #convert to seconds\n",
    "    print(f'Epoch: {epoch+1} error: {np.mean(error)}')\n",
    "    print(f'Finished in: {s_per_epoch[epoch]}s, est. time left: {round((np.average(s_per_epoch[s_per_epoch!=0])*(hyper_params[\"epochs\"]-epoch))/60, 2)} min')\n",
    "    "
   ]
  },
  {
   "attachments": {},
   "cell_type": "markdown",
   "metadata": {},
   "source": [
    "Showing results"
   ]
  },
  {
   "cell_type": "code",
   "execution_count": null,
   "metadata": {},
   "outputs": [],
   "source": [
    "import matplotlib.pyplot as plt\n",
    "dataiter = iter(data_loader)\n",
    "image, mask = next(dataiter)\n",
    "\n",
    "image = image.to(DEVICE)\n",
    "mask = mask.to(DEVICE)\n",
    "predict = model(image)"
   ]
  },
  {
   "cell_type": "code",
   "execution_count": null,
   "metadata": {},
   "outputs": [],
   "source": [
    "with torch.no_grad():\n",
    "    i = 5 # i in range(0, batch_size-1)\n",
    "    img_dim = image[i].permute(1, 2, 0)\n",
    "    predict_dim = predict[i].permute(1,2,0)\n",
    "    msk_dim = mask[i].permute(1,2,0)\n",
    "    plt.imshow(img_dim.cpu())\n",
    "    plt.show()\n",
    "    plt.imshow(predict_dim.cpu())\n",
    "    plt.show()\n",
    "    plt.imshow(msk_dim.cpu()/255)\n"
   ]
  }
 ],
 "metadata": {
  "kernelspec": {
   "display_name": "Python 3",
   "language": "python",
   "name": "python3"
  },
  "language_info": {
   "codemirror_mode": {
    "name": "ipython",
    "version": 3
   },
   "file_extension": ".py",
   "mimetype": "text/x-python",
   "name": "python",
   "nbconvert_exporter": "python",
   "pygments_lexer": "ipython3",
   "version": "3.9.13"
  },
  "orig_nbformat": 4
 },
 "nbformat": 4,
 "nbformat_minor": 2
}
