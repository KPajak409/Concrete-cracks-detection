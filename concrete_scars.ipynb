{
 "cells": [
  {
   "cell_type": "code",
   "execution_count": 1,
   "metadata": {},
   "outputs": [],
   "source": [
    "from comet_ml import Experiment\n",
    "from comet_ml.integration.pytorch import log_model\n",
    "import numpy as np\n",
    "import os\n",
    "import torch\n",
    "from concrete_scars_dataset import ConcreteScarsDataset\n",
    "from concrete_scars_model import ConcreteScarsModel\n",
    "\n",
    "API_KEY = os.environ['COMETKEY']\n",
    "DEVICE = torch.device(\"cuda:0\" if torch.cuda.is_available() else \"cpu\")"
   ]
  },
  {
   "cell_type": "code",
   "execution_count": 2,
   "metadata": {},
   "outputs": [],
   "source": [
    "# experiment = Experiment(\n",
    "#   api_key = API_KEY,\n",
    "#   project_name = 'concrete-scars-detection',\n",
    "#   workspace='my-projects'\n",
    "# )"
   ]
  },
  {
   "cell_type": "code",
   "execution_count": 3,
   "metadata": {},
   "outputs": [],
   "source": [
    "hyper_params = {\n",
    "    'learning_rate': 0.001,\n",
    "    'epochs': 10,\n",
    "    'batch_size': 10\n",
    "}"
   ]
  },
  {
   "cell_type": "code",
   "execution_count": 4,
   "metadata": {},
   "outputs": [],
   "source": [
    "from torchvision.transforms import ToTensor\n",
    "from torch.utils.data import DataLoader\n",
    "\n",
    "dataset = ConcreteScarsDataset(transform=ToTensor()) #default distribution 300-negative 700-positive\n",
    "data_loader = DataLoader(dataset=dataset, batch_size=hyper_params['batch_size'], shuffle=True, num_workers=1)\n",
    "steps = len(dataset)\n",
    "\n",
    "model = ConcreteScarsModel().to(DEVICE)\n",
    "criterion = torch.nn.MSELoss()\n",
    "optimizer = torch.optim.Adam(model.parameters(), lr=hyper_params['learning_rate'])"
   ]
  },
  {
   "cell_type": "code",
   "execution_count": 5,
   "metadata": {},
   "outputs": [
    {
     "name": "stdout",
     "output_type": "stream",
     "text": [
      "Epoch  0  error:  0.002463959224987775\n",
      "Step:  390 / 1000  epoch:  2\r"
     ]
    },
    {
     "name": "stdout",
     "output_type": "stream",
     "text": [
      "Step:  440 / 1000  epoch:  2\r"
     ]
    }
   ],
   "source": [
    "for epoch in range(hyper_params['epochs']):\n",
    "    error = np.zeros(steps)\n",
    "\n",
    "    for i, (images, masks) in enumerate(data_loader):\n",
    "        images = images.to(DEVICE)\n",
    "        masks = masks.to(DEVICE)\n",
    "\n",
    "        optimizer.zero_grad()\n",
    "        outputs = model(images)\n",
    "        loss = criterion(outputs, masks)\n",
    "\n",
    "        loss.backward()\n",
    "        optimizer.step()\n",
    "\n",
    "        error[i] = loss.item()\n",
    "        #if(i%10==0):\n",
    "            #ToDo poprawnie wyliczyc step\n",
    "        print('\\rStep: ', (i)*hyper_params['batch_size'], '/', steps, ' epoch: ', epoch+1, end='\\r', flush=True)\n",
    "    print('Epoch ', epoch+1, ' error: ', np.mean(error))\n",
    "    "
   ]
  },
  {
   "cell_type": "code",
   "execution_count": null,
   "metadata": {},
   "outputs": [],
   "source": [
    "from torchvision.transforms import Normalize\n",
    "\n",
    "class Detransform():\n",
    "  def __init__(self, mean, std):\n",
    "    self.mean = mean\n",
    "    self.std = std\n",
    "  \n",
    "  # PIL images loaded into dataset are normalized.\n",
    "  # In order to display them correctly we need to un-normalize them first\n",
    "  def un_normalize_image(self, image):\n",
    "    un_normalize = Normalize(\n",
    "        (-self.mean / self.std), (1.0 / self.std)\n",
    "    )\n",
    "    return un_normalize(image)\n",
    "  \n",
    "  # If 'ToTensor' transformation was applied then the PIL images have CHW format.\n",
    "  # To show them using pyplot.imshow(), we need to change it to HWC with \n",
    "  # permute() function.\n",
    "  def reshape(self, image):\n",
    "    return image.permute(1,2,0)\n",
    "\n",
    "  def __call__(self, image):\n",
    "    return self.reshape(self.un_normalize_image(image))\n",
    "\n"
   ]
  },
  {
   "cell_type": "code",
   "execution_count": null,
   "metadata": {},
   "outputs": [],
   "source": [
    "import matplotlib.pyplot as plt\n",
    "dataiter = iter(data_loader)\n",
    "image, mask = next(dataiter)\n",
    "\n",
    "image = image.to(DEVICE)\n",
    "mask = mask.to(DEVICE)\n",
    "predict = model(image)\n",
    "detransform = Detransform(0,1)\n",
    "maskd = detransform(mask[0])\n",
    "\n"
   ]
  },
  {
   "cell_type": "code",
   "execution_count": null,
   "metadata": {},
   "outputs": [],
   "source": [
    "print(predict[0])\n",
    "with torch.no_grad():\n",
    "    i = 5\n",
    "    img_dim = image[i].permute(1, 2, 0)\n",
    "    predict_dim = predict[i].permute(1,2,0)\n",
    "    msk_dim = mask[i].permute(1,2,0)\n",
    "    plt.imshow(img_dim.cpu())\n",
    "    plt.show()\n",
    "    plt.imshow(predict_dim.cpu())\n",
    "    plt.show()\n",
    "    plt.imshow(msk_dim.cpu()/255)\n"
   ]
  },
  {
   "cell_type": "code",
   "execution_count": null,
   "metadata": {},
   "outputs": [],
   "source": []
  },
  {
   "cell_type": "code",
   "execution_count": null,
   "metadata": {},
   "outputs": [],
   "source": []
  }
 ],
 "metadata": {
  "kernelspec": {
   "display_name": "Python 3",
   "language": "python",
   "name": "python3"
  },
  "language_info": {
   "codemirror_mode": {
    "name": "ipython",
    "version": 3
   },
   "file_extension": ".py",
   "mimetype": "text/x-python",
   "name": "python",
   "nbconvert_exporter": "python",
   "pygments_lexer": "ipython3",
   "version": "3.9.13"
  },
  "orig_nbformat": 4
 },
 "nbformat": 4,
 "nbformat_minor": 2
}
