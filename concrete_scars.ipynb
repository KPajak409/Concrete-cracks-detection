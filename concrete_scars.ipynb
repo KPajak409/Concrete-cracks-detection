{
 "cells": [
  {
   "cell_type": "code",
   "execution_count": null,
   "metadata": {},
   "outputs": [],
   "source": [
    "from comet_ml import Experiment\n",
    "import numpy as np\n",
    "import os\n",
    "import torch\n",
    "from torchvision.transforms import ToTensor\n",
    "from torch.utils.data import DataLoader\n",
    "from concrete_scars_dataset import ConcreteScarsDataset\n",
    "from concrete_scars_model import ConcreteScarsModel\n",
    "\n",
    "API_KEY = os.environ['COMETKEY']\n",
    "DEVICE = torch.device(\"cuda:0\" if torch.cuda.is_available() else \"cpu\")"
   ]
  },
  {
   "cell_type": "code",
   "execution_count": null,
   "metadata": {},
   "outputs": [],
   "source": [
    "hyper_params = {\n",
    "    'learning_rate': 0.001,\n",
    "    'epochs': 50,\n",
    "    'batch_size': 10,\n",
    "    'negative_samples': 300,\n",
    "    'positive_samples': 700\n",
    "}\n",
    "\n",
    "train_dataset = ConcreteScarsDataset(transform=ToTensor(),n_negative=hyper_params['negative_samples'], n_positive=hyper_params['positive_samples'], skip=10) #default distribution 300-negative 700-positive\n",
    "test_dataset = ConcreteScarsDataset(transform=ToTensor(),n_negative=5, n_positive=5, skip=0)\n",
    "train_loader = DataLoader(dataset=train_dataset, batch_size=hyper_params['batch_size'], shuffle=True, num_workers=1)\n",
    "test_loader = DataLoader(dataset=test_dataset, batch_size=hyper_params['batch_size'], shuffle=True, num_workers=1)\n",
    "steps = len(train_dataset)\n",
    "\n",
    "model = ConcreteScarsModel().to(DEVICE)\n",
    "criterion = torch.nn.MSELoss()\n",
    "optimizer = torch.optim.Adam(model.parameters(), lr=hyper_params['learning_rate'])\n"
   ]
  },
  {
   "cell_type": "code",
   "execution_count": null,
   "metadata": {},
   "outputs": [],
   "source": [
    "experiment = Experiment(\n",
    "  api_key = API_KEY,\n",
    "  project_name = 'concrete-scars-detection',\n",
    "  workspace='my-projects'\n",
    ")\n",
    "experiment.log_parameters(hyper_params)"
   ]
  },
  {
   "cell_type": "code",
   "execution_count": null,
   "metadata": {},
   "outputs": [],
   "source": [
    "start = torch.cuda.Event(enable_timing=True)\n",
    "#first epoch is always a few seconds longer, we dont do warmup\n",
    "end = torch.cuda.Event(enable_timing=True)\n",
    "\n",
    "total_time = 0\n",
    "for epoch in range(hyper_params['epochs']):\n",
    "    error = np.zeros(steps)\n",
    "    s_per_epoch = np.zeros(hyper_params['epochs'])\n",
    "\n",
    "    start.record()\n",
    "    for i, (images, masks) in enumerate(train_loader):\n",
    "        images = images.to(DEVICE)\n",
    "        masks = masks.to(DEVICE)\n",
    "\n",
    "        optimizer.zero_grad()\n",
    "        outputs = model(images)\n",
    "        loss = criterion(outputs, masks)\n",
    "\n",
    "        loss.backward()\n",
    "        optimizer.step()\n",
    "\n",
    "        error[i] = loss.item()\n",
    "        print(f'Step:  {(i+1)*hyper_params[\"batch_size\"]}/{steps} epoch: {epoch+1}', end='\\r', flush=True)\n",
    "\n",
    "    for i in range(len(test_dataset)):\n",
    "        output = model(test_dataset[i][0].cuda())\n",
    "\n",
    "        #converting dimensions to HWC\n",
    "        img = test_dataset[i][0].permute(1,2,0)\n",
    "        msk = test_dataset[i][1].permute(1,2,0)\n",
    "        predict = output.permute(1,2,0).cpu()\n",
    "     \n",
    "        #log images to comet\n",
    "        step = (epoch+1)*len(train_dataset)\n",
    "        experiment.log_image(img, f'image{i+1}', step=step)\n",
    "        experiment.log_image(msk, f'mask{i+1}', step=step)\n",
    "        experiment.log_image(predict*255, f'predict{i+1}', step=step) #*255 makes it more visible in comet\n",
    "    end.record()\n",
    "    torch.cuda.synchronize()\n",
    "    \n",
    "    error_avg = np.mean(error)\n",
    "    error_std = np.std(error)\n",
    "    error_min = np.min(error)\n",
    "    error_max = np.max(error)\n",
    "    metrics = { 'error_avg': error_avg,\n",
    "                'error_std': error_std,\n",
    "                'error_min': error_min,\n",
    "                'error_max': error_max}\n",
    "    experiment.log_metrics(metrics, epoch=epoch+1)\n",
    "\n",
    "    s_per_epoch[epoch] = round(start.elapsed_time(end)/1000,3) #convert to seconds\n",
    "    print(f'Epoch: {epoch+1} error: {error_avg}')\n",
    "    print(f'Finished in: {s_per_epoch[epoch]}s, est. time left: {round((np.average(s_per_epoch[s_per_epoch!=0])*(hyper_params[\"epochs\"]-epoch))/60, 2)} min')\n",
    "    total_time += s_per_epoch[epoch]\n",
    "print('Total time:', round(total_time/60, 2), 'min')\n",
    "    "
   ]
  },
  {
   "attachments": {},
   "cell_type": "markdown",
   "metadata": {},
   "source": [
    "Showing results"
   ]
  },
  {
   "cell_type": "code",
   "execution_count": null,
   "metadata": {},
   "outputs": [],
   "source": [
    "import matplotlib.pyplot as plt\n",
    "image, mask = next(iter(train_loader))\n",
    "\n",
    "image = image.to(DEVICE)\n",
    "mask = mask.to(DEVICE)\n",
    "predict = model(image)\n",
    "\n",
    "image2, mask2 = next(iter(test_loader))\n",
    "\n",
    "image2 = image2.to(DEVICE)\n",
    "mask2 = mask2.to(DEVICE)\n",
    "predict2 = model(image2)"
   ]
  },
  {
   "cell_type": "code",
   "execution_count": null,
   "metadata": {},
   "outputs": [],
   "source": [
    "with torch.no_grad():\n",
    "    i = 2 # i in range(0, batch_size-1)\n",
    "    img_dim = image2[i].permute(1, 2, 0).cpu()\n",
    "    predict_dim = predict2[i].permute(1,2,0).cpu()\n",
    "    msk_dim = mask2[i].permute(1,2,0).cpu()\n",
    "    plt.imshow(img_dim)\n",
    "    plt.show()\n",
    "    plt.imshow(predict_dim*255)\n",
    "    plt.show()\n",
    "    plt.imshow(msk_dim)"
   ]
  },
  {
   "cell_type": "code",
   "execution_count": null,
   "metadata": {},
   "outputs": [],
   "source": [
    "model_state_file = 'model_versions/filename'\n",
    "\n",
    "torch.save(model.state_dict(), model_state_file)\n",
    "experiment.log_model('name on comet', model_state_file)"
   ]
  },
  {
   "cell_type": "code",
   "execution_count": null,
   "metadata": {},
   "outputs": [],
   "source": [
    "experiment.end()"
   ]
  }
 ],
 "metadata": {
  "kernelspec": {
   "display_name": "Python 3",
   "language": "python",
   "name": "python3"
  },
  "language_info": {
   "codemirror_mode": {
    "name": "ipython",
    "version": 3
   },
   "file_extension": ".py",
   "mimetype": "text/x-python",
   "name": "python",
   "nbconvert_exporter": "python",
   "pygments_lexer": "ipython3",
   "version": "3.9.13"
  },
  "orig_nbformat": 4
 },
 "nbformat": 4,
 "nbformat_minor": 2
}
