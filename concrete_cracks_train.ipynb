{
 "cells": [
  {
   "cell_type": "code",
   "execution_count": 1,
   "metadata": {},
   "outputs": [
    {
     "name": "stderr",
     "output_type": "stream",
     "text": [
      "C:\\Users\\karly\\AppData\\Local\\Packages\\PythonSoftwareFoundation.Python.3.9_qbz5n2kfra8p0\\LocalCache\\local-packages\\Python39\\site-packages\\torchaudio\\backend\\utils.py:74: UserWarning: No audio backend is available.\n",
      "  warnings.warn(\"No audio backend is available.\")\n"
     ]
    }
   ],
   "source": [
    "from comet_ml import Experiment\n",
    "import os\n",
    "import torch\n",
    "\n",
    "from torchvision.transforms import ToTensor\n",
    "from torch.utils.data import DataLoader\n",
    "from concrete_cracks_dataset import ConcreteCracksDataset\n",
    "from concrete_cracks_model import ConcreteCracksModel\n",
    "import concrete_cracks_utils as cc_utils\n",
    "from Unet import Unet\n",
    "\n",
    "API_KEY = os.environ['COMETKEY']\n",
    "DEVICE = torch.device(\"cuda:0\" if torch.cuda.is_available() else \"cpu\")\n",
    "\n",
    "# Important note, if batch requires more memory than gpu has it starts to copy values, because of that performance drastically decrease. It is about 25 times slower\n",
    "hyper_params = {\n",
    "    'learning_rate': 0.0003,\n",
    "    'epochs': 10,\n",
    "    'batch_size': 5, \n",
    "    'n_negative': 3,\n",
    "    'n_positive': 7,\n",
    "}"
   ]
  },
  {
   "cell_type": "code",
   "execution_count": 2,
   "metadata": {},
   "outputs": [
    {
     "name": "stderr",
     "output_type": "stream",
     "text": [
      "\u001b[1;38;5;214mCOMET WARNING:\u001b[0m As you are running in a Jupyter environment, you will need to call `experiment.end()` when finished to ensure all metrics and code are logged before exiting.\n",
      "\u001b[1;38;5;39mCOMET INFO:\u001b[0m Experiment is live on comet.com https://www.comet.com/my-projects/concrete-cracks-segmentation/7dfb0c7f827e4b49bac7a30117527f3c\n",
      "\n"
     ]
    }
   ],
   "source": [
    "experiment = Experiment(\n",
    "  api_key = API_KEY,\n",
    "  project_name = 'concrete-cracks-segmentation',\n",
    "  workspace='my-projects'\n",
    ")\n",
    "experiment.log_parameters(hyper_params)"
   ]
  },
  {
   "cell_type": "code",
   "execution_count": 3,
   "metadata": {},
   "outputs": [],
   "source": [
    "model = Unet(ch_in=3, ch_out=1).to(DEVICE)\n",
    "loss_fn = torch.nn.BCEWithLogitsLoss()\n",
    "optimizer = torch.optim.Adam(model.parameters(), lr=hyper_params['learning_rate'])\n",
    "scaler = torch.cuda.amp.grad_scaler.GradScaler()\n",
    "\n",
    "\n",
    "train_dataset = ConcreteCracksDataset(hyper_params['n_negative'], hyper_params['n_positive'], skip=10, transform=ToTensor())\n",
    "train_loader = DataLoader(\n",
    "    dataset=train_dataset,\n",
    "    batch_size=5,\n",
    "    shuffle=True,\n",
    "    num_workers=1\n",
    ")\n",
    "\n",
    "val_dataset = ConcreteCracksDataset(0, 5, skip=0, transform=ToTensor())\n",
    "val_loader = DataLoader(\n",
    "    dataset=val_dataset,\n",
    "    batch_size=1,\n",
    "    shuffle=False,\n",
    "    num_workers=1\n",
    ")"
   ]
  },
  {
   "cell_type": "code",
   "execution_count": 4,
   "metadata": {},
   "outputs": [
    {
     "name": "stderr",
     "output_type": "stream",
     "text": [
      "100%|██████████| 2/2 [00:08<00:00,  4.21s/it, loss=0.748]\n",
      "100%|██████████| 2/2 [00:04<00:00,  2.07s/it, loss=0.692]\n",
      "100%|██████████| 2/2 [00:04<00:00,  2.04s/it, loss=0.636]\n",
      "100%|██████████| 2/2 [00:04<00:00,  2.07s/it, loss=0.588]\n"
     ]
    }
   ],
   "source": [
    "for epoch in range(hyper_params['epochs']):\n",
    "    cc_utils.train_fn(train_loader, model, DEVICE, optimizer, loss_fn, scaler)\n",
    "    cc_utils.log_images(val_loader, model, DEVICE, epoch, experiment)\n",
    "    f1_score = cc_utils.check_accuracy(val_loader, model, DEVICE)\n",
    "    experiment.log_metric('f1_score', f1_score, epoch=epoch)"
   ]
  },
  {
   "attachments": {},
   "cell_type": "markdown",
   "metadata": {},
   "source": [
    "Showing results"
   ]
  },
  {
   "cell_type": "code",
   "execution_count": null,
   "metadata": {},
   "outputs": [],
   "source": [
    "import matplotlib.pyplot as plt\n",
    "image, mask = next(iter(val_loader))\n",
    "\n",
    "image = image.to(DEVICE)\n",
    "mask = mask.to(DEVICE)\n",
    "\n",
    "# it is important to use it like to to decrease memory usage\n",
    "model.eval()\n",
    "with torch.no_grad():\n",
    "    predict = model(image)\n",
    "model.train()"
   ]
  },
  {
   "cell_type": "code",
   "execution_count": null,
   "metadata": {},
   "outputs": [],
   "source": [
    "i = 8 # i in range(0, batch_size-1)\n",
    "img_dim = image[i].permute(1, 2, 0).cpu()\n",
    "predict_dim = predict[i].permute(1,2,0).cpu()\n",
    "msk_dim = mask[i].permute(1,2,0).cpu()\n",
    "plt.imshow(img_dim)\n",
    "plt.show()\n",
    "plt.imshow(predict_dim)\n",
    "plt.show()\n",
    "plt.imshow(msk_dim*255)"
   ]
  },
  {
   "cell_type": "code",
   "execution_count": null,
   "metadata": {},
   "outputs": [],
   "source": [
    "model_state_file = 'model_versions/filename'\n",
    "torch.save(model.state_dict(), model_state_file)\n",
    "#experiment.log_model('name on comet', model_state_file)"
   ]
  },
  {
   "cell_type": "code",
   "execution_count": null,
   "metadata": {},
   "outputs": [],
   "source": [
    "experiment.end()"
   ]
  },
  {
   "cell_type": "code",
   "execution_count": null,
   "metadata": {},
   "outputs": [],
   "source": []
  }
 ],
 "metadata": {
  "kernelspec": {
   "display_name": "Python 3",
   "language": "python",
   "name": "python3"
  },
  "language_info": {
   "codemirror_mode": {
    "name": "ipython",
    "version": 3
   },
   "file_extension": ".py",
   "mimetype": "text/x-python",
   "name": "python",
   "nbconvert_exporter": "python",
   "pygments_lexer": "ipython3",
   "version": "3.9.13"
  },
  "orig_nbformat": 4
 },
 "nbformat": 4,
 "nbformat_minor": 2
}
